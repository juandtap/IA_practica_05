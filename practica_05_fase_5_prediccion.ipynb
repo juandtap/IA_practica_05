{
 "cells": [
  {
   "cell_type": "markdown",
   "metadata": {},
   "source": [
    "![ups logo](https://upload.wikimedia.org/wikipedia/commons/thumb/b/b0/Logo_Universidad_Polit%C3%A9cnica_Salesiana_del_Ecuador.png/640px-Logo_Universidad_Polit%C3%A9cnica_Salesiana_del_Ecuador.png)\n",
    "\n",
    "# Inteligencia Artificial\n",
    "\n",
    "# Practica 05\n",
    "\n",
    "## Aplicaciones de las Redes Bayesianas como herramientas de soporte a la toma de decisiones. Despliegue de servicios de Inteligencia Artificial\n",
    "\n",
    "### Autor: Diego Tapia"
   ]
  },
  {
   "cell_type": "markdown",
   "metadata": {},
   "source": [
    "## Desarrollo\n",
    "\n",
    "#### Esta practica se divide en siete partes:\n",
    "\n",
    "1. Fase de preparación\n",
    "\n",
    "2. Fase de modelado: Red Neuronal\n",
    "\n",
    "3. Fase de modelado: Naive Bayes\n",
    "\n",
    "4. Comparacion de modelos\n",
    "\n",
    "5. **Fase de predicción de nuevos samples (Red Neuronal y Naive Bayes)**\n",
    "\n",
    "6. Proyecto en Django Framework\n",
    "\n",
    "7. Despliegue del proyecto\n"
   ]
  },
  {
   "cell_type": "code",
   "execution_count": 1,
   "metadata": {},
   "outputs": [
    {
     "name": "stdout",
     "output_type": "stream",
     "text": [
      "Módulos importados\n"
     ]
    }
   ],
   "source": [
    "# Importacion de librerias\n",
    "from time import time\n",
    "from datetime import datetime, timedelta\n",
    "import pandas as pd  \n",
    "import numpy as np  \n",
    "from matplotlib import*\n",
    "from matplotlib.cm import register_cmap\n",
    "import matplotlib.pyplot as plt \n",
    "from sklearn.impute import SimpleImputer\n",
    "from sklearn.preprocessing import OneHotEncoder, StandardScaler, OrdinalEncoder, MinMaxScaler\n",
    "from sklearn.compose import make_column_transformer, ColumnTransformer\n",
    "from sklearn.pipeline import Pipeline\n",
    "import pickle\n",
    "import seaborn as sns\n",
    "import copy\n",
    "\n",
    "from sklearn.neighbors import KNeighborsRegressor, KNeighborsClassifier #KNeighborsClassifier\n",
    "from sklearn.model_selection import train_test_split\n",
    "from sklearn.model_selection import cross_val_score\n",
    "from sklearn.model_selection import GridSearchCV\n",
    "\n",
    "from sklearn.model_selection import cross_val_score\n",
    "from sklearn.model_selection import StratifiedKFold\n",
    "from sklearn.model_selection import ShuffleSplit\n",
    "from sklearn.model_selection import KFold\n",
    "from sklearn.model_selection import GridSearchCV\n",
    "#from keras.layers import Dropout\n",
    "\n",
    "from sklearn import metrics \n",
    "from sklearn.metrics import confusion_matrix  \n",
    "from sklearn.metrics import accuracy_score\n",
    "from sklearn.metrics import precision_score\n",
    "from sklearn.metrics import recall_score\n",
    "from sklearn.metrics import f1_score\n",
    "\n",
    "from scipy import stats\n",
    "import seaborn\n",
    "from sklearn import set_config                      \n",
    "print('Módulos importados')"
   ]
  },
  {
   "cell_type": "markdown",
   "metadata": {},
   "source": [
    "## Fase 5. Prediccion de nuevos samples"
   ]
  },
  {
   "cell_type": "markdown",
   "metadata": {},
   "source": [
    "Se carga el pipeline y la red neuronal"
   ]
  },
  {
   "cell_type": "code",
   "execution_count": 8,
   "metadata": {},
   "outputs": [],
   "source": [
    "#Se carga el pipeline de transformación\n",
    "def cargarPipeline(nombreArchivo):\n",
    "    with open(nombreArchivo+'.pickle', 'rb') as handle:\n",
    "        pipeline = pickle.load(handle)\n",
    "    return pipeline\n",
    "\n",
    "#Se carga el modelo entrenado\n",
    "def cargarModelo(nombreArchivo):\n",
    "    with open(nombreArchivo+'.h5', 'rb') as handle:\n",
    "        pipeline = pickle.load(handle)\n",
    "    return pipeline\n",
    "        "
   ]
  },
  {
   "cell_type": "code",
   "execution_count": 10,
   "metadata": {},
   "outputs": [],
   "source": [
    "#Esta es la función para calcular la certeza (confianza o probabilidad) asociada a la predicción de clase\n",
    "def obtenerResultadosyCertezas(lista):\n",
    "    predicciones=lista\n",
    "    marcas=[]\n",
    "    certezas=[]\n",
    "    nuevomax=1\n",
    "    nuevomin=0\n",
    "    marca=-1\n",
    "    certeza=-1\n",
    "    for i in range(len(lista)):\n",
    "        prediccion=lista[i]\n",
    "        if (prediccion < 0.5):\n",
    "            marca = 'No Acepta'\n",
    "            maxa=0.5\n",
    "            mina=0\n",
    "            certeza=1-((prediccion-mina)/(maxa-mina)*(nuevomax-nuevomin)+nuevomin)\n",
    "            certeza=str(int((certeza)*100))+'%'\n",
    "        elif (prediccion >= 0.5):\n",
    "            marca = 'Acepta'\n",
    "            maxa=1\n",
    "            mina=0.5\n",
    "            certeza=(prediccion-mina)/(maxa-mina)*(nuevomax-nuevomin)+nuevomin\n",
    "            certeza=str(int((certeza)*100))+'%'\n",
    "        marcas.append(marca)\n",
    "        certezas.append(certeza)\n",
    "    return prediccion, marcas, certezas\n"
   ]
  },
  {
   "cell_type": "code",
   "execution_count": 9,
   "metadata": {},
   "outputs": [],
   "source": [
    "def predecirNuevoCliente(age=40, job='management', marital='married', education='tertiary',\n",
    "                            balance=5000, housing=0, loan=0, contact='cellular',duration='60', campaign=1,\n",
    "                            poutcome='unknown'):    \n",
    "    cnames=['age', 'job','marital', 'education',\n",
    "                            'balance', 'housing', 'loan', 'contact','duration', 'campaign',\n",
    "                            'poutcome']\n",
    "    Xnew=[age,job,marital,education,balance,housing,loan,contact,duration,campaign,poutcome]\n",
    "    Xnew_Dataframe = pd.DataFrame(data=[Xnew],columns=cnames)\n",
    "    pipe=cargarPipeline(\"pipeline_bank_data\")\n",
    "    Xnew_Transformado=pipe.transform(Xnew_Dataframe)\n",
    "    modelo=cargarModelo(\"model_NN_bank_data\")\n",
    "    \n",
    "    y_pred=modelo.predict(Xnew_Transformado)\n",
    "    predicciones, marcas, certezas= obtenerResultadosyCertezas(y_pred)\n",
    "    dataframeFinal=pd.DataFrame({'Predicción':predicciones, 'Resultado':marcas, 'Certeza': certezas})\n",
    "    np.set_printoptions(formatter={'float': lambda X: \"{0:0.0f}\".format(X)})\n",
    "    return dataframeFinal"
   ]
  },
  {
   "cell_type": "code",
   "execution_count": 11,
   "metadata": {},
   "outputs": [
    {
     "ename": "UnpicklingError",
     "evalue": "invalid load key, 'H'.",
     "output_type": "error",
     "traceback": [
      "\u001b[1;31m---------------------------------------------------------------------------\u001b[0m",
      "\u001b[1;31mUnpicklingError\u001b[0m                           Traceback (most recent call last)",
      "Cell \u001b[1;32mIn[11], line 1\u001b[0m\n\u001b[1;32m----> 1\u001b[0m dataframeFinal\u001b[38;5;241m=\u001b[39mpredecirNuevoCliente()\n\u001b[0;32m      2\u001b[0m dataframeFinal\u001b[38;5;241m.\u001b[39mhead()\n",
      "Cell \u001b[1;32mIn[9], line 11\u001b[0m, in \u001b[0;36mpredecirNuevoCliente\u001b[1;34m(age, job, marital, education, balance, housing, loan, contact, duration, campaign, poutcome)\u001b[0m\n\u001b[0;32m      9\u001b[0m pipe\u001b[38;5;241m=\u001b[39mcargarPipeline(\u001b[38;5;124m\"\u001b[39m\u001b[38;5;124mpipeline_bank_data\u001b[39m\u001b[38;5;124m\"\u001b[39m)\n\u001b[0;32m     10\u001b[0m Xnew_Transformado\u001b[38;5;241m=\u001b[39mpipe\u001b[38;5;241m.\u001b[39mtransform(Xnew_Dataframe)\n\u001b[1;32m---> 11\u001b[0m modelo\u001b[38;5;241m=\u001b[39mcargarModelo(\u001b[38;5;124m\"\u001b[39m\u001b[38;5;124mmodel_NN_bank_data\u001b[39m\u001b[38;5;124m\"\u001b[39m)\n\u001b[0;32m     13\u001b[0m y_pred\u001b[38;5;241m=\u001b[39mmodelo\u001b[38;5;241m.\u001b[39mpredict(Xnew_Transformado)\n\u001b[0;32m     14\u001b[0m predicciones, marcas, certezas\u001b[38;5;241m=\u001b[39m obtenerResultadosyCertezas(y_pred)\n",
      "Cell \u001b[1;32mIn[8], line 10\u001b[0m, in \u001b[0;36mcargarModelo\u001b[1;34m(nombreArchivo)\u001b[0m\n\u001b[0;32m      8\u001b[0m \u001b[38;5;28;01mdef\u001b[39;00m \u001b[38;5;21mcargarModelo\u001b[39m(nombreArchivo):\n\u001b[0;32m      9\u001b[0m     \u001b[38;5;28;01mwith\u001b[39;00m \u001b[38;5;28mopen\u001b[39m(nombreArchivo\u001b[38;5;241m+\u001b[39m\u001b[38;5;124m'\u001b[39m\u001b[38;5;124m.h5\u001b[39m\u001b[38;5;124m'\u001b[39m, \u001b[38;5;124m'\u001b[39m\u001b[38;5;124mrb\u001b[39m\u001b[38;5;124m'\u001b[39m) \u001b[38;5;28;01mas\u001b[39;00m handle:\n\u001b[1;32m---> 10\u001b[0m         pipeline \u001b[38;5;241m=\u001b[39m pickle\u001b[38;5;241m.\u001b[39mload(handle)\n\u001b[0;32m     11\u001b[0m     \u001b[38;5;28;01mreturn\u001b[39;00m pipeline\n",
      "\u001b[1;31mUnpicklingError\u001b[0m: invalid load key, 'H'."
     ]
    }
   ],
   "source": [
    "dataframeFinal=predecirNuevoCliente()\n",
    "dataframeFinal.head()"
   ]
  }
 ],
 "metadata": {
  "kernelspec": {
   "display_name": "base",
   "language": "python",
   "name": "python3"
  },
  "language_info": {
   "codemirror_mode": {
    "name": "ipython",
    "version": 3
   },
   "file_extension": ".py",
   "mimetype": "text/x-python",
   "name": "python",
   "nbconvert_exporter": "python",
   "pygments_lexer": "ipython3",
   "version": "3.11.5"
  }
 },
 "nbformat": 4,
 "nbformat_minor": 2
}
