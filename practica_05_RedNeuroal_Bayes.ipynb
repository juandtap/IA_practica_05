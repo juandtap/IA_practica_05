{
 "cells": [
  {
   "cell_type": "markdown",
   "metadata": {},
   "source": [
    "![ups logo](https://upload.wikimedia.org/wikipedia/commons/thumb/b/b0/Logo_Universidad_Polit%C3%A9cnica_Salesiana_del_Ecuador.png/640px-Logo_Universidad_Polit%C3%A9cnica_Salesiana_del_Ecuador.png)\n",
    "\n",
    "# Inteligencia Artificial\n",
    "\n",
    "# Practica 05\n",
    "\n",
    "## Aplicaciones de las Redes Bayesianas como herramientas de soporte a la toma de decisiones. Despliegue de servicios de Inteligencia Artificial\n",
    "\n",
    "### Autor: Diego Tapia"
   ]
  },
  {
   "cell_type": "markdown",
   "metadata": {},
   "source": [
    "## Desarrollo\n",
    "\n",
    "#### Esta practica se divide en siete partes:\n",
    "\n",
    "**1. Fase de preparación**\n",
    "\n",
    "**2. Fase de modelado: Red Neuronal**\n",
    "\n",
    "**3. Fase de modelado: Naive Bayes**\n",
    "\n",
    "**4. Comparacion de modelos**\n",
    "\n",
    "**5. Fase de predicción de nuevos samples (Red Neuronal y Naive Bayes)**\n",
    "\n",
    "**6. Proyecto en Django Framework**\n",
    "\n",
    "**7. Despliegue del proyecto**\n",
    "\n"
   ]
  },
  {
   "cell_type": "markdown",
   "metadata": {},
   "source": [
    "## 1. Fase de Preparación\n",
    "\n",
    "### 1.1 Descripción del Dataset\n",
    "\n",
    "Nombre del dataset: Bank Marketing\n",
    "\n",
    "Enlace : https://archive.ics.uci.edu/dataset/222/bank+marketing\n",
    "\n",
    "Descripción:\n",
    "\n",
    "Los datos están relacionados con campañas de marketing directo (llamadas telefónicas) de una institución bancaria portuguesa. El objetivo de la clasificación es predecir si el cliente suscribirá un depósito a plazo fijo (variable y).\n",
    "\n",
    "**Numero de variables: 17**\n",
    "\n",
    "**Numero de instacias: 45211**\n",
    "\n",
    "Descripción de las variables:\n",
    "\n",
    "Variables de entrada: \n",
    "\n",
    "Datos del cliente bancario: \n",
    "\n",
    "1 - Edad (numérico)\n",
    "\n",
    "2 - Trabajo: tipo de trabajo (categórico: \"admin.\", \"desconocido\", \"desempleado\", \"directivo\", \"ama de casa\", \"emprendedor\", \"estudiante\", \"trabajador manual\", \"autónomo\", \"jubilado\", \"técnico\", \"servicios\")\n",
    "\n",
    "3 - Estado civil: estado civil (categórico: \"casado\", \"divorciado\", \"soltero\"; nota: \"divorciado\" significa divorciado o viudo)\n",
    "\n",
    "4 - Educación (categórico: \"desconocido\", \"secundaria\", \"primaria\", \"terciaria\")\n",
    "\n",
    "5 - Incumplimiento: ¿tiene crédito en incumplimiento? (binario: \"sí\", \"no\")\n",
    "\n",
    "6 - Saldo: saldo promedio anual, en euros (numérico)\n",
    "\n",
    "7 - Vivienda: ¿tiene préstamo hipotecario? (binario: \"sí\", \"no\")\n",
    "\n",
    "8 - Préstamo: ¿tiene préstamo personal? (binario: \"sí\", \"no\")\n",
    "\n",
    "Relacionado con el último contacto de la campaña actual: 9 - Contacto: tipo de comunicación de contacto (categórico: \"desconocido\", \"teléfono\", \"celular\")\n",
    "\n",
    "10 - Día: último día de contacto del mes (numérico)\n",
    "\n",
    "11 - Mes: último mes de contacto del año (categórico: \"ene\", \"feb\", \"mar\", ..., \"nov\", \"dic\")\n",
    "\n",
    "12 - Duración: duración del último contacto, en segundos (numérico)\n",
    "\n",
    "Otros atributos: 13 - Campaña: número de contactos realizados durante esta campaña y para este cliente (numérico, incluye el último contacto)\n",
    "\n",
    "14 - Pdays: número de días que transcurrieron después de que el cliente fue contactado por última vez en una campaña anterior (numérico, -1 significa que el cliente no fue contactado previamente)\n",
    "\n",
    "15 - Anterior: número de contactos realizados antes de esta campaña y para este cliente (numérico)\n",
    "\n",
    "16 - ResultadoPrevio: resultado de la campaña de marketing anterior (categórico: \"desconocido\", \"otro\", \"fracaso\", \"éxito\")\n",
    "\n",
    "Variable de salida (objetivo deseado): 17 - y - ¿el cliente ha suscrito un depósito a plazo fijo? (binario: \"sí\", \"no\")\n"
   ]
  },
  {
   "cell_type": "markdown",
   "metadata": {},
   "source": [
    "### 1.2 Carga del dataset\n",
    "\n",
    "#### Importación de librerias"
   ]
  },
  {
   "cell_type": "code",
   "execution_count": 1,
   "metadata": {},
   "outputs": [
    {
     "name": "stdout",
     "output_type": "stream",
     "text": [
      "WARNING:tensorflow:From C:\\Users\\juand\\AppData\\Roaming\\Python\\Python311\\site-packages\\keras\\src\\losses.py:2976: The name tf.losses.sparse_softmax_cross_entropy is deprecated. Please use tf.compat.v1.losses.sparse_softmax_cross_entropy instead.\n",
      "\n",
      "Módulos y clases importados\n"
     ]
    }
   ],
   "source": [
    "# Importacion de librerias\n",
    "\n",
    "#%pip install scikeras\n",
    "\n",
    "import pandas as pd\n",
    "import numpy as np\n",
    "import matplotlib.pyplot as plt\n",
    "\n",
    "from time import time\n",
    "from datetime import datetime, timedelta\n",
    "\n",
    "from sklearn.impute import SimpleImputer\n",
    "from sklearn.preprocessing import OneHotEncoder, StandardScaler, OrdinalEncoder, MinMaxScaler\n",
    "from sklearn.compose import make_column_transformer, ColumnTransformer\n",
    "from sklearn.pipeline import Pipeline\n",
    "import pickle\n",
    "import seaborn as sns\n",
    "import copy\n",
    "\n",
    "from sklearn.model_selection import train_test_split\n",
    "from scikeras.wrappers import KerasClassifier, KerasRegressor\n",
    "from sklearn.model_selection import cross_val_score\n",
    "from sklearn.model_selection import StratifiedKFold\n",
    "from sklearn.model_selection import ShuffleSplit\n",
    "from sklearn.model_selection import GridSearchCV\n",
    "from keras.layers import Dropout\n",
    "\n",
    "import keras\n",
    "from keras.layers import Dense\n",
    "from keras.models import Sequential\n",
    "from keras.models import model_from_json\n",
    "from keras.models import load_model\n",
    "\n",
    "from sklearn import metrics\n",
    "from sklearn.metrics import confusion_matrix\n",
    "from sklearn.metrics import accuracy_score\n",
    "from sklearn.metrics import precision_score\n",
    "from sklearn.metrics import recall_score\n",
    "from sklearn.metrics import f1_score\n",
    "\n",
    "from sklearn import set_config\n",
    "\n",
    "print(\"Módulos y clases importados\")"
   ]
  }
 ],
 "metadata": {
  "kernelspec": {
   "display_name": "base",
   "language": "python",
   "name": "python3"
  },
  "language_info": {
   "codemirror_mode": {
    "name": "ipython",
    "version": 3
   },
   "file_extension": ".py",
   "mimetype": "text/x-python",
   "name": "python",
   "nbconvert_exporter": "python",
   "pygments_lexer": "ipython3",
   "version": "3.11.5"
  }
 },
 "nbformat": 4,
 "nbformat_minor": 2
}
